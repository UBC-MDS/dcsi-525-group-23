{
 "cells": [
  {
   "cell_type": "markdown",
   "id": "700ae2b2-9d2c-457e-81f3-265fbfc5c69c",
   "metadata": {},
   "source": [
    "### Downloading the data"
   ]
  },
  {
   "cell_type": "code",
   "execution_count": 6,
   "id": "cfa7d994-a432-46b4-89a3-8b828afc857e",
   "metadata": {},
   "outputs": [],
   "source": [
    "#imports\n",
    "\n",
    "import re\n",
    "import os\n",
    "import glob\n",
    "import zipfile\n",
    "import requests\n",
    "from urllib.request import urlretrieve\n",
    "import json\n",
    "import pandas as pd"
   ]
  },
  {
   "cell_type": "code",
   "execution_count": 8,
   "id": "fe466072-7d85-434b-9fb6-acc05b52affd",
   "metadata": {},
   "outputs": [
    {
     "name": "stdout",
     "output_type": "stream",
     "text": [
      "/Users/cicidu/MDS/m1_525\n"
     ]
    }
   ],
   "source": [
    "# Directory to save the data locally\n",
    "%cd /Users/cicidu/MDS/m1_525"
   ]
  },
  {
   "cell_type": "code",
   "execution_count": 2,
   "id": "b03b01fd-2e93-44fa-8521-23e5227699be",
   "metadata": {},
   "outputs": [],
   "source": [
    "# Necessary metadata\n",
    "article_id = 14096681  \n",
    "url = f\"https://api.figshare.com/v2/articles/{article_id}\"\n",
    "headers = {\"Content-Type\": \"application/json\"}\n",
    "output_directory = \"figsharedailyrain/\""
   ]
  },
  {
   "cell_type": "code",
   "execution_count": 3,
   "id": "32313bfc-375a-466b-851a-f108ab70bccf",
   "metadata": {},
   "outputs": [
    {
     "data": {
      "text/plain": [
       "[{'id': 26579150,\n",
       "  'name': 'daily_rainfall_2014.png',\n",
       "  'size': 58863,\n",
       "  'is_link_only': False,\n",
       "  'download_url': 'https://ndownloader.figshare.com/files/26579150',\n",
       "  'supplied_md5': 'fd32a2ffde300a31f8d63b1825d47e5e',\n",
       "  'computed_md5': 'fd32a2ffde300a31f8d63b1825d47e5e'},\n",
       " {'id': 26579171,\n",
       "  'name': 'environment.yml',\n",
       "  'size': 192,\n",
       "  'is_link_only': False,\n",
       "  'download_url': 'https://ndownloader.figshare.com/files/26579171',\n",
       "  'supplied_md5': '060b2020017eed93a1ee7dd8c65b2f34',\n",
       "  'computed_md5': '060b2020017eed93a1ee7dd8c65b2f34'},\n",
       " {'id': 26586554,\n",
       "  'name': 'README.md',\n",
       "  'size': 5422,\n",
       "  'is_link_only': False,\n",
       "  'download_url': 'https://ndownloader.figshare.com/files/26586554',\n",
       "  'supplied_md5': '61858c6cc0e6a6d6663a7e4c75bbd88c',\n",
       "  'computed_md5': '61858c6cc0e6a6d6663a7e4c75bbd88c'},\n",
       " {'id': 26766812,\n",
       "  'name': 'data.zip',\n",
       "  'size': 814041183,\n",
       "  'is_link_only': False,\n",
       "  'download_url': 'https://ndownloader.figshare.com/files/26766812',\n",
       "  'supplied_md5': 'b517383f76e77bd03755a63a8ff83ee9',\n",
       "  'computed_md5': 'b517383f76e77bd03755a63a8ff83ee9'},\n",
       " {'id': 26766815,\n",
       "  'name': 'get_data.py',\n",
       "  'size': 4113,\n",
       "  'is_link_only': False,\n",
       "  'download_url': 'https://ndownloader.figshare.com/files/26766815',\n",
       "  'supplied_md5': '7829028495fd9dec9680ea013474afa6',\n",
       "  'computed_md5': '7829028495fd9dec9680ea013474afa6'}]"
      ]
     },
     "execution_count": 3,
     "metadata": {},
     "output_type": "execute_result"
    }
   ],
   "source": [
    "response = requests.request(\"GET\", url, headers=headers)\n",
    "data = json.loads(response.text)  \n",
    "files = data[\"files\"]             \n",
    "files"
   ]
  },
  {
   "cell_type": "code",
   "execution_count": 9,
   "id": "24577925-4f26-4493-beb2-4fda52cdd205",
   "metadata": {},
   "outputs": [],
   "source": [
    "files_to_dl = [\"data.zip\"]\n",
    "for file in files:\n",
    "    if file[\"name\"] in files_to_dl:\n",
    "        os.makedirs(output_directory, exist_ok=True)\n",
    "        urlretrieve(file[\"download_url\"], output_directory + file[\"name\"])"
   ]
  },
  {
   "cell_type": "code",
   "execution_count": 10,
   "id": "8c9ff919-e183-4481-86c3-1780faa63aa9",
   "metadata": {},
   "outputs": [],
   "source": [
    "with zipfile.ZipFile(os.path.join(output_directory, \"data.zip\"), 'r') as f:\n",
    "    f.extractall(output_directory)"
   ]
  },
  {
   "cell_type": "code",
   "execution_count": 15,
   "id": "dee80baf-23e2-476f-bcdf-dd878ddb8518",
   "metadata": {},
   "outputs": [
    {
     "name": "stdout",
     "output_type": "stream",
     "text": [
      "total 12109560\n",
      "-rw-r--r--   1 cicidu  staff  814041183 29 Mar 14:53 data.zip\n",
      "-rw-r--r--   1 cicidu  staff   95376895 29 Mar 14:53 MPI-ESM-1-2-HAM_daily_rainfall_NSW.csv\n",
      "-rw-r--r--   1 cicidu  staff   94960113 29 Mar 14:53 AWI-ESM-1-1-LR_daily_rainfall_NSW.csv\n",
      "-rw-r--r--   1 cicidu  staff   82474546 29 Mar 14:53 NorESM2-LM_daily_rainfall_NSW.csv\n",
      "-rw-r--r--   1 cicidu  staff  127613760 29 Mar 14:53 ACCESS-CM2_daily_rainfall_NSW.csv\n",
      "-rw-r--r--   1 cicidu  staff  232118894 29 Mar 14:53 FGOALS-f3-L_daily_rainfall_NSW.csv\n",
      "-rw-r--r--   1 cicidu  staff  330360682 29 Mar 14:53 CMCC-CM2-HR4_daily_rainfall_NSW.csv\n",
      "-rw-r--r--   1 cicidu  staff  254009247 29 Mar 14:53 MRI-ESM2-0_daily_rainfall_NSW.csv\n",
      "-rw-r--r--   1 cicidu  staff  235661418 29 Mar 14:53 GFDL-CM4_daily_rainfall_NSW.csv\n",
      "-rw-r--r--   1 cicidu  staff  294260911 29 Mar 14:53 BCC-CSM2-MR_daily_rainfall_NSW.csv\n",
      "-rw-r--r--   1 cicidu  staff  295768615 29 Mar 14:53 EC-Earth3-Veg-LR_daily_rainfall_NSW.csv\n",
      "-rw-r--r--   1 cicidu  staff  328852379 29 Mar 14:53 CMCC-ESM2_daily_rainfall_NSW.csv\n",
      "-rw-r--r--   1 cicidu  staff   67784105 29 Mar 14:53 NESM3_daily_rainfall_NSW.csv\n",
      "-rw-r--r--   1 cicidu  staff   95640682 29 Mar 14:53 MPI-ESM1-2-LR_daily_rainfall_NSW.csv\n",
      "-rw-r--r--   1 cicidu  staff  114707410 29 Mar 14:53 ACCESS-ESM1-5_daily_rainfall_NSW.csv\n",
      "-rw-r--r--   1 cicidu  staff  116179272 29 Mar 14:54 FGOALS-g3_daily_rainfall_NSW.csv\n",
      "-rw-r--r--   1 cicidu  staff  102517965 29 Mar 14:54 INM-CM4-8_daily_rainfall_NSW.csv\n",
      "-rw-r--r--   1 cicidu  staff  515458033 29 Mar 14:54 MPI-ESM1-2-HR_daily_rainfall_NSW.csv\n",
      "-rw-r--r--   1 cicidu  staff  332813281 29 Mar 14:54 TaiESM1_daily_rainfall_NSW.csv\n",
      "-rw-r--r--   1 cicidu  staff  337555851 29 Mar 14:54 NorESM2-MM_daily_rainfall_NSW.csv\n",
      "-rw-r--r--   1 cicidu  staff  328787320 29 Mar 14:54 CMCC-CM2-SR5_daily_rainfall_NSW.csv\n",
      "-rw-r--r--   1 cicidu  staff     952202 29 Mar 14:54 observed_daily_rainfall_SYD.csv\n",
      "-rw-r--r--   1 cicidu  staff   93829697 29 Mar 14:54 KIOST-ESM_daily_rainfall_NSW.csv\n",
      "-rw-r--r--   1 cicidu  staff  102692289 29 Mar 14:54 INM-CM5-0_daily_rainfall_NSW.csv\n",
      "-rw-r--r--   1 cicidu  staff  206822938 29 Mar 14:54 MIROC6_daily_rainfall_NSW.csv\n",
      "-rw-r--r--   1 cicidu  staff   55224437 29 Mar 14:54 BCC-ESM1_daily_rainfall_NSW.csv\n",
      "-rw-r--r--   1 cicidu  staff  124586961 29 Mar 14:54 GFDL-ESM4_daily_rainfall_NSW.csv\n",
      "-rw-r--r--   1 cicidu  staff   46286371 29 Mar 14:54 CanESM5_daily_rainfall_NSW.csv\n",
      "-rw-r--r--   1 cicidu  staff  333489879 29 Mar 14:54 SAM0-UNICON_daily_rainfall_NSW.csv\n",
      "drwxr-xr-x  30 cicidu  staff        960 29 Mar 14:54 \u001b[1m\u001b[34m__MACOSX\u001b[m\u001b[m/\n"
     ]
    }
   ],
   "source": [
    "%ls -ltr figsharedailyrain"
   ]
  },
  {
   "cell_type": "code",
   "execution_count": null,
   "id": "dfd8d1d5-48fe-4e1e-8419-89fc405b45ec",
   "metadata": {},
   "outputs": [],
   "source": []
  }
 ],
 "metadata": {
  "kernelspec": {
   "display_name": "Python 3 (ipykernel)",
   "language": "python",
   "name": "python3"
  },
  "language_info": {
   "codemirror_mode": {
    "name": "ipython",
    "version": 3
   },
   "file_extension": ".py",
   "mimetype": "text/x-python",
   "name": "python",
   "nbconvert_exporter": "python",
   "pygments_lexer": "ipython3",
   "version": "3.9.9"
  }
 },
 "nbformat": 4,
 "nbformat_minor": 5
}
