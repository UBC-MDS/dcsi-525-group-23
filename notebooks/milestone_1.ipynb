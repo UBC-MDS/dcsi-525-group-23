{
 "cells": [
  {
   "cell_type": "markdown",
   "id": "700ae2b2-9d2c-457e-81f3-265fbfc5c69c",
   "metadata": {},
   "source": [
    "### Downloading the data"
   ]
  },
  {
   "cell_type": "code",
   "execution_count": 1,
   "id": "cfa7d994-a432-46b4-89a3-8b828afc857e",
   "metadata": {},
   "outputs": [],
   "source": [
    "# Imports\n",
    "\n",
    "import os\n",
    "import zipfile\n",
    "import requests\n",
    "import json\n",
    "import pandas as pd\n",
    "import dask.dataframe as dd\n",
    "from urllib.request import urlretrieve"
   ]
  },
  {
   "cell_type": "code",
   "execution_count": 2,
   "id": "ea172723",
   "metadata": {},
   "outputs": [],
   "source": [
    "%load_ext memory_profiler"
   ]
  },
  {
   "cell_type": "code",
   "execution_count": 3,
   "id": "b03b01fd-2e93-44fa-8521-23e5227699be",
   "metadata": {},
   "outputs": [],
   "source": [
    "# Necessary constants\n",
    "\n",
    "article_id = 14096681  \n",
    "url = f\"https://api.figshare.com/v2/articles/{article_id}\"\n",
    "headers = {\"Content-Type\": \"application/json\"}\n",
    "output_directory = \"../data/\"\n",
    "combined_data_path = f\"{output_directory}/combined_data.csv\""
   ]
  },
  {
   "cell_type": "code",
   "execution_count": 3,
   "id": "32313bfc-375a-466b-851a-f108ab70bccf",
   "metadata": {},
   "outputs": [
    {
     "data": {
      "text/plain": [
       "[{'id': 26579150,\n",
       "  'name': 'daily_rainfall_2014.png',\n",
       "  'size': 58863,\n",
       "  'is_link_only': False,\n",
       "  'download_url': 'https://ndownloader.figshare.com/files/26579150',\n",
       "  'supplied_md5': 'fd32a2ffde300a31f8d63b1825d47e5e',\n",
       "  'computed_md5': 'fd32a2ffde300a31f8d63b1825d47e5e'},\n",
       " {'id': 26579171,\n",
       "  'name': 'environment.yml',\n",
       "  'size': 192,\n",
       "  'is_link_only': False,\n",
       "  'download_url': 'https://ndownloader.figshare.com/files/26579171',\n",
       "  'supplied_md5': '060b2020017eed93a1ee7dd8c65b2f34',\n",
       "  'computed_md5': '060b2020017eed93a1ee7dd8c65b2f34'},\n",
       " {'id': 26586554,\n",
       "  'name': 'README.md',\n",
       "  'size': 5422,\n",
       "  'is_link_only': False,\n",
       "  'download_url': 'https://ndownloader.figshare.com/files/26586554',\n",
       "  'supplied_md5': '61858c6cc0e6a6d6663a7e4c75bbd88c',\n",
       "  'computed_md5': '61858c6cc0e6a6d6663a7e4c75bbd88c'},\n",
       " {'id': 26766812,\n",
       "  'name': 'data.zip',\n",
       "  'size': 814041183,\n",
       "  'is_link_only': False,\n",
       "  'download_url': 'https://ndownloader.figshare.com/files/26766812',\n",
       "  'supplied_md5': 'b517383f76e77bd03755a63a8ff83ee9',\n",
       "  'computed_md5': 'b517383f76e77bd03755a63a8ff83ee9'},\n",
       " {'id': 26766815,\n",
       "  'name': 'get_data.py',\n",
       "  'size': 4113,\n",
       "  'is_link_only': False,\n",
       "  'download_url': 'https://ndownloader.figshare.com/files/26766815',\n",
       "  'supplied_md5': '7829028495fd9dec9680ea013474afa6',\n",
       "  'computed_md5': '7829028495fd9dec9680ea013474afa6'}]"
      ]
     },
     "execution_count": 3,
     "metadata": {},
     "output_type": "execute_result"
    }
   ],
   "source": [
    "response = requests.request(\"GET\", url, headers=headers)\n",
    "data = json.loads(response.text)  \n",
    "files = data[\"files\"]             \n",
    "files"
   ]
  },
  {
   "cell_type": "code",
   "execution_count": 4,
   "id": "24577925-4f26-4493-beb2-4fda52cdd205",
   "metadata": {},
   "outputs": [],
   "source": [
    "files_to_dl = [\"data.zip\"]\n",
    "for file in files:\n",
    "    if file[\"name\"] in files_to_dl:\n",
    "        os.makedirs(output_directory, exist_ok=True)\n",
    "        urlretrieve(file[\"download_url\"], output_directory + file[\"name\"])"
   ]
  },
  {
   "cell_type": "code",
   "execution_count": 5,
   "id": "8c9ff919-e183-4481-86c3-1780faa63aa9",
   "metadata": {},
   "outputs": [],
   "source": [
    "with zipfile.ZipFile(os.path.join(output_directory, \"data.zip\"), 'r') as f:\n",
    "    f.extractall(output_directory)"
   ]
  },
  {
   "cell_type": "markdown",
   "id": "19c1ccd8-b7da-4a1f-b612-50eaa6e59698",
   "metadata": {},
   "source": [
    "### Peak at one of the csv files\n",
    "\n"
   ]
  },
  {
   "cell_type": "code",
   "execution_count": 4,
   "id": "622e8c35-b98f-4e8a-b590-b006d2af0ec2",
   "metadata": {},
   "outputs": [],
   "source": [
    "df = pd.read_csv(\"../data/MPI-ESM-1-2-HAM_daily_rainfall_NSW.csv\")"
   ]
  },
  {
   "cell_type": "code",
   "execution_count": 5,
   "id": "547d0211-91d1-4357-a550-098d1bdfa525",
   "metadata": {},
   "outputs": [
    {
     "data": {
      "text/html": [
       "<div>\n",
       "<style scoped>\n",
       "    .dataframe tbody tr th:only-of-type {\n",
       "        vertical-align: middle;\n",
       "    }\n",
       "\n",
       "    .dataframe tbody tr th {\n",
       "        vertical-align: top;\n",
       "    }\n",
       "\n",
       "    .dataframe thead th {\n",
       "        text-align: right;\n",
       "    }\n",
       "</style>\n",
       "<table border=\"1\" class=\"dataframe\">\n",
       "  <thead>\n",
       "    <tr style=\"text-align: right;\">\n",
       "      <th></th>\n",
       "      <th>time</th>\n",
       "      <th>lat_min</th>\n",
       "      <th>lat_max</th>\n",
       "      <th>lon_min</th>\n",
       "      <th>lon_max</th>\n",
       "      <th>rain (mm/day)</th>\n",
       "    </tr>\n",
       "  </thead>\n",
       "  <tbody>\n",
       "    <tr>\n",
       "      <th>0</th>\n",
       "      <td>1889-01-01 12:00:00</td>\n",
       "      <td>-35.439867</td>\n",
       "      <td>-33.574619</td>\n",
       "      <td>141.5625</td>\n",
       "      <td>143.4375</td>\n",
       "      <td>4.244226e-13</td>\n",
       "    </tr>\n",
       "    <tr>\n",
       "      <th>1</th>\n",
       "      <td>1889-01-02 12:00:00</td>\n",
       "      <td>-35.439867</td>\n",
       "      <td>-33.574619</td>\n",
       "      <td>141.5625</td>\n",
       "      <td>143.4375</td>\n",
       "      <td>4.217326e-13</td>\n",
       "    </tr>\n",
       "    <tr>\n",
       "      <th>2</th>\n",
       "      <td>1889-01-03 12:00:00</td>\n",
       "      <td>-35.439867</td>\n",
       "      <td>-33.574619</td>\n",
       "      <td>141.5625</td>\n",
       "      <td>143.4375</td>\n",
       "      <td>4.498125e-13</td>\n",
       "    </tr>\n",
       "    <tr>\n",
       "      <th>3</th>\n",
       "      <td>1889-01-04 12:00:00</td>\n",
       "      <td>-35.439867</td>\n",
       "      <td>-33.574619</td>\n",
       "      <td>141.5625</td>\n",
       "      <td>143.4375</td>\n",
       "      <td>4.251282e-13</td>\n",
       "    </tr>\n",
       "    <tr>\n",
       "      <th>4</th>\n",
       "      <td>1889-01-05 12:00:00</td>\n",
       "      <td>-35.439867</td>\n",
       "      <td>-33.574619</td>\n",
       "      <td>141.5625</td>\n",
       "      <td>143.4375</td>\n",
       "      <td>4.270161e-13</td>\n",
       "    </tr>\n",
       "  </tbody>\n",
       "</table>\n",
       "</div>"
      ],
      "text/plain": [
       "                  time    lat_min    lat_max   lon_min   lon_max  \\\n",
       "0  1889-01-01 12:00:00 -35.439867 -33.574619  141.5625  143.4375   \n",
       "1  1889-01-02 12:00:00 -35.439867 -33.574619  141.5625  143.4375   \n",
       "2  1889-01-03 12:00:00 -35.439867 -33.574619  141.5625  143.4375   \n",
       "3  1889-01-04 12:00:00 -35.439867 -33.574619  141.5625  143.4375   \n",
       "4  1889-01-05 12:00:00 -35.439867 -33.574619  141.5625  143.4375   \n",
       "\n",
       "   rain (mm/day)  \n",
       "0   4.244226e-13  \n",
       "1   4.217326e-13  \n",
       "2   4.498125e-13  \n",
       "3   4.251282e-13  \n",
       "4   4.270161e-13  "
      ]
     },
     "execution_count": 5,
     "metadata": {},
     "output_type": "execute_result"
    }
   ],
   "source": [
    "df.head()"
   ]
  },
  {
   "cell_type": "code",
   "execution_count": 6,
   "id": "08a73a52-3797-4e5a-908c-dc031213b8e1",
   "metadata": {},
   "outputs": [
    {
     "data": {
      "text/plain": [
       "(966420, 6)"
      ]
     },
     "execution_count": 6,
     "metadata": {},
     "output_type": "execute_result"
    }
   ],
   "source": [
    "df.shape"
   ]
  },
  {
   "cell_type": "code",
   "execution_count": 6,
   "id": "7b58fc70-c491-42fd-b01e-c46d14208469",
   "metadata": {},
   "outputs": [],
   "source": [
    "# Define a skeleton for concatenating data frames\n",
    "\n",
    "combined_df = pd.DataFrame({\n",
    "    \"time\": [], \n",
    "    \"lat_min\": [], \n",
    "    \"lat_max\": [], \n",
    "    \"lon_min\": [], \n",
    "    \"lon_max\": [], \n",
    "    \"rain (mm/day)\": [], \n",
    "    \"model\": []\n",
    "})\n",
    "\n",
    "\n",
    "\n"
   ]
  },
  {
   "cell_type": "markdown",
   "id": "fdc16830-1dc5-4191-8736-736f4be759fd",
   "metadata": {},
   "source": [
    "### Concatenate all CSV files"
   ]
  },
  {
   "cell_type": "code",
   "execution_count": 7,
   "id": "adcbc3ef-b3e5-4526-a506-e3bd075b5cdf",
   "metadata": {},
   "outputs": [
    {
     "name": "stdout",
     "output_type": "stream",
     "text": [
      "CPU times: user 53.7 s, sys: 48 s, total: 1min 41s\n",
      "Wall time: 2min 49s\n"
     ]
    }
   ],
   "source": [
    "%%time\n",
    "\n",
    "\n",
    "for filename in os.listdir(output_directory):\n",
    "\n",
    "    if filename.endswith('.csv'):\n",
    "        if filename == \"observed_daily_rainfall_SYD.csv\":\n",
    "            continue\n",
    "        else:\n",
    "            model = filename.partition('_daily_rainfall')[0]\n",
    "            df = pd.read_csv(output_directory + filename)\n",
    "            df[\"model\"] = model\n",
    "            combined_df = pd.concat([combined_df, df], axis=0)\n"
   ]
  },
  {
   "cell_type": "markdown",
   "id": "a2f6c248-4909-4348-a72c-53c053956c4a",
   "metadata": {},
   "source": [
    "### Check if all csv files are incorporated as model column"
   ]
  },
  {
   "cell_type": "code",
   "execution_count": 8,
   "id": "8be0cf25-e6ce-469d-9a7c-701b2f859388",
   "metadata": {},
   "outputs": [
    {
     "data": {
      "text/plain": [
       "MPI-ESM1-2-HR       5154240\n",
       "CMCC-CM2-HR4        3541230\n",
       "CMCC-ESM2           3541230\n",
       "CMCC-CM2-SR5        3541230\n",
       "NorESM2-MM          3541230\n",
       "TaiESM1             3541230\n",
       "SAM0-UNICON         3541153\n",
       "GFDL-ESM4           3219300\n",
       "FGOALS-f3-L         3219300\n",
       "GFDL-CM4            3219300\n",
       "MRI-ESM2-0          3037320\n",
       "EC-Earth3-Veg-LR    3037320\n",
       "BCC-CSM2-MR         3035340\n",
       "MIROC6              2070900\n",
       "ACCESS-CM2          1932840\n",
       "ACCESS-ESM1-5       1610700\n",
       "INM-CM4-8           1609650\n",
       "INM-CM5-0           1609650\n",
       "FGOALS-g3           1287720\n",
       "KIOST-ESM           1287720\n",
       "AWI-ESM-1-1-LR       966420\n",
       "MPI-ESM1-2-LR        966420\n",
       "NESM3                966420\n",
       "MPI-ESM-1-2-HAM      966420\n",
       "NorESM2-LM           919800\n",
       "BCC-ESM1             551880\n",
       "CanESM5              551880\n",
       "Name: model, dtype: int64"
      ]
     },
     "execution_count": 8,
     "metadata": {},
     "output_type": "execute_result"
    }
   ],
   "source": [
    "# Sanity check - there should be 27 different models\n",
    "\n",
    "combined_df['model'].value_counts()"
   ]
  },
  {
   "cell_type": "markdown",
   "id": "ea6f965f-4284-404a-95fd-b91aae8d8500",
   "metadata": {},
   "source": [
    "### Store the combined df to a csv file"
   ]
  },
  {
   "cell_type": "code",
   "execution_count": 9,
   "id": "f32bfcbe-9858-4b66-9b94-b809591a86a0",
   "metadata": {},
   "outputs": [
    {
     "name": "stdout",
     "output_type": "stream",
     "text": [
      "CPU times: user 6min 13s, sys: 6.95 s, total: 6min 20s\n",
      "Wall time: 6min 32s\n"
     ]
    }
   ],
   "source": [
    "%%time\n",
    "\n",
    "combined_df.to_csv(combined_data_path)"
   ]
  },
  {
   "cell_type": "code",
   "execution_count": 10,
   "id": "691067ea",
   "metadata": {},
   "outputs": [
    {
     "name": "stdout",
     "output_type": "stream",
     "text": [
      "6.0G\t../data/combined_data.csv\n"
     ]
    }
   ],
   "source": [
    "%%sh\n",
    "\n",
    "du -sh ../data/combined_data.csv"
   ]
  },
  {
   "cell_type": "markdown",
   "id": "0498de11",
   "metadata": {},
   "source": [
    "**Note**: Time taken is calculated by combining the wall times of data concatenation and storing the data frame as a CSV file."
   ]
  },
  {
   "cell_type": "markdown",
   "id": "5793452f",
   "metadata": {},
   "source": [
    "| Team Member | Operating System | RAM | Processor | Is SSD | Time taken |\n",
    "|:-----------:|:----------------:|:---:|:---------:|:------:|:----------:|\n",
    "| Cici        |                  |     |           |        |            |\n",
    "| Gautham     |Mac OS X (Big Sur)|8 GB |   M1      |   Yes  |   9min 21s |\n",
    "| Navya       |                  |     |           |        |            |\n",
    "| Nobby       |                  |     |           |        |            |"
   ]
  },
  {
   "cell_type": "markdown",
   "id": "ab3d51f5",
   "metadata": {},
   "source": [
    "### 3. Load the combined CSV to memory and perform a simple EDA"
   ]
  },
  {
   "cell_type": "markdown",
   "id": "c3f2b8af",
   "metadata": {},
   "source": [
    "#### Loading the entire data frame (Reference)"
   ]
  },
  {
   "cell_type": "code",
   "execution_count": 17,
   "id": "201c876a",
   "metadata": {},
   "outputs": [
    {
     "name": "stdout",
     "output_type": "stream",
     "text": [
      "MPI-ESM1-2-HR       5154240\n",
      "CMCC-CM2-HR4        3541230\n",
      "CMCC-ESM2           3541230\n",
      "CMCC-CM2-SR5        3541230\n",
      "NorESM2-MM          3541230\n",
      "TaiESM1             3541230\n",
      "SAM0-UNICON         3541153\n",
      "GFDL-ESM4           3219300\n",
      "FGOALS-f3-L         3219300\n",
      "GFDL-CM4            3219300\n",
      "MRI-ESM2-0          3037320\n",
      "EC-Earth3-Veg-LR    3037320\n",
      "BCC-CSM2-MR         3035340\n",
      "MIROC6              2070900\n",
      "ACCESS-CM2          1932840\n",
      "ACCESS-ESM1-5       1610700\n",
      "INM-CM4-8           1609650\n",
      "INM-CM5-0           1609650\n",
      "FGOALS-g3           1287720\n",
      "KIOST-ESM           1287720\n",
      "AWI-ESM-1-1-LR       966420\n",
      "MPI-ESM1-2-LR        966420\n",
      "NESM3                966420\n",
      "MPI-ESM-1-2-HAM      966420\n",
      "NorESM2-LM           919800\n",
      "BCC-ESM1             551880\n",
      "CanESM5              551880\n",
      "Name: model, dtype: int64\n",
      "peak memory: 5864.23 MiB, increment: 5351.78 MiB\n",
      "CPU times: user 51.1 s, sys: 23.8 s, total: 1min 14s\n",
      "Wall time: 2min 52s\n"
     ]
    }
   ],
   "source": [
    "%%time\n",
    "%%memit\n",
    "\n",
    "rainfall_df = pd.read_csv(combined_data_path)\n",
    "print(rainfall_df[\"model\"].value_counts())"
   ]
  },
  {
   "cell_type": "markdown",
   "id": "0526e541",
   "metadata": {},
   "source": [
    "| Team Member | Operating System | RAM | Processor | Is SSD | Time taken |\n",
    "|:-----------:|:----------------:|:---:|:---------:|:------:|:----------:|\n",
    "| Cici        |                  |     |           |        |            |\n",
    "| Gautham     |Mac OS X (Big Sur)|8 GB |   M1      |   Yes  | 2min 52s   |\n",
    "| Navya       |                  |     |           |        |            |\n",
    "| Nobby       |                  |     |           |        |            |"
   ]
  },
  {
   "cell_type": "markdown",
   "id": "c605f769",
   "metadata": {},
   "source": [
    "#### Approach 1: Changing `dtype` of the data"
   ]
  },
  {
   "cell_type": "code",
   "execution_count": 18,
   "id": "af2f8a28",
   "metadata": {},
   "outputs": [
    {
     "name": "stdout",
     "output_type": "stream",
     "text": [
      "Memory usage with float64: 3997.94 MB\n",
      "Memory usage with float32: 2748.59 MB\n",
      "MPI-ESM1-2-HR       5154240\n",
      "CMCC-CM2-HR4        3541230\n",
      "CMCC-ESM2           3541230\n",
      "CMCC-CM2-SR5        3541230\n",
      "NorESM2-MM          3541230\n",
      "TaiESM1             3541230\n",
      "SAM0-UNICON         3541153\n",
      "GFDL-ESM4           3219300\n",
      "FGOALS-f3-L         3219300\n",
      "GFDL-CM4            3219300\n",
      "MRI-ESM2-0          3037320\n",
      "EC-Earth3-Veg-LR    3037320\n",
      "BCC-CSM2-MR         3035340\n",
      "MIROC6              2070900\n",
      "ACCESS-CM2          1932840\n",
      "ACCESS-ESM1-5       1610700\n",
      "INM-CM4-8           1609650\n",
      "INM-CM5-0           1609650\n",
      "FGOALS-g3           1287720\n",
      "KIOST-ESM           1287720\n",
      "AWI-ESM-1-1-LR       966420\n",
      "MPI-ESM1-2-LR        966420\n",
      "NESM3                966420\n",
      "MPI-ESM-1-2-HAM      966420\n",
      "NorESM2-LM           919800\n",
      "BCC-ESM1             551880\n",
      "CanESM5              551880\n",
      "Name: model, dtype: int64\n",
      "peak memory: 4812.47 MiB, increment: 3947.69 MiB\n",
      "CPU times: user 15.8 s, sys: 5.98 s, total: 21.7 s\n",
      "Wall time: 45.3 s\n"
     ]
    }
   ],
   "source": [
    "%%time\n",
    "%%memit\n",
    "\n",
    "print(f\"Memory usage with float64: {rainfall_df.memory_usage().sum() / 1e6:.2f} MB\")\n",
    "rainfall_df = rainfall_df.astype(\n",
    "    dtype={\n",
    "        \"lat_min\": \"float32\",\n",
    "        \"lat_max\": \"float32\",\n",
    "        \"lon_min\": \"float32\",\n",
    "        \"lon_max\": \"float32\",\n",
    "        \"rain (mm/day)\": \"float32\",\n",
    "        \"time\": \"datetime64[s]\"\n",
    "    },\n",
    "    errors='ignore')\n",
    "print(f\"Memory usage with float32: {rainfall_df.memory_usage().sum() / 1e6:.2f} MB\")\n",
    "print(rainfall_df[\"model\"].value_counts())"
   ]
  },
  {
   "cell_type": "markdown",
   "id": "6d13c8b2",
   "metadata": {},
   "source": [
    "| Team Member | Operating System | RAM | Processor | Is SSD | Time taken |\n",
    "|:-----------:|:----------------:|:---:|:---------:|:------:|:----------:|\n",
    "| Cici        |                  |     |           |        |            |\n",
    "| Gautham     |Mac OS X (Big Sur)|8 GB |   M1      |   Yes  |   45.3s    |\n",
    "| Navya       |                  |     |           |        |            |\n",
    "| Nobby       |                  |     |           |        |            |"
   ]
  },
  {
   "cell_type": "markdown",
   "id": "6ec39156",
   "metadata": {},
   "source": [
    "#### Approach 2: Load data in chunks"
   ]
  },
  {
   "cell_type": "code",
   "execution_count": 15,
   "id": "4b992187",
   "metadata": {},
   "outputs": [
    {
     "name": "stdout",
     "output_type": "stream",
     "text": [
      "ACCESS-CM2          1932840\n",
      "ACCESS-ESM1-5       1610700\n",
      "AWI-ESM-1-1-LR       966420\n",
      "BCC-CSM2-MR         3035340\n",
      "BCC-ESM1             551880\n",
      "CMCC-CM2-HR4        3541230\n",
      "CMCC-CM2-SR5        3541230\n",
      "CMCC-ESM2           3541230\n",
      "CanESM5              551880\n",
      "EC-Earth3-Veg-LR    3037320\n",
      "FGOALS-f3-L         3219300\n",
      "FGOALS-g3           1287720\n",
      "GFDL-CM4            3219300\n",
      "GFDL-ESM4           3219300\n",
      "INM-CM4-8           1609650\n",
      "INM-CM5-0           1609650\n",
      "KIOST-ESM           1287720\n",
      "MIROC6              2070900\n",
      "MPI-ESM-1-2-HAM      966420\n",
      "MPI-ESM1-2-HR       5154240\n",
      "MPI-ESM1-2-LR        966420\n",
      "MRI-ESM2-0          3037320\n",
      "NESM3                966420\n",
      "NorESM2-LM           919800\n",
      "NorESM2-MM          3541230\n",
      "SAM0-UNICON         3541153\n",
      "TaiESM1             3541230\n",
      "dtype: int64\n",
      "peak memory: 2356.17 MiB, increment: 698.39 MiB\n",
      "CPU times: user 49.2 s, sys: 4.12 s, total: 53.3 s\n",
      "Wall time: 59 s\n"
     ]
    }
   ],
   "source": [
    "%%time\n",
    "%%memit\n",
    "\n",
    "counts = pd.Series(dtype=int)\n",
    "for chunk in pd.read_csv(combined_data_path, chunksize=10_000_000):\n",
    "    counts = counts.add(chunk[\"model\"].value_counts(), fill_value=0)\n",
    "\n",
    "print(counts.astype(int))"
   ]
  },
  {
   "cell_type": "markdown",
   "id": "afebc75b",
   "metadata": {},
   "source": [
    "| Team Member | Operating System | RAM | Processor | Is SSD | Time taken |\n",
    "|:-----------:|:----------------:|:---:|:---------:|:------:|:----------:|\n",
    "| Cici        |                  |     |           |        |            |\n",
    "| Gautham     |Mac OS X (Big Sur)|8 GB |   M1      |   Yes  |   59s      |\n",
    "| Navya       |                  |     |           |        |            |\n",
    "| Nobby       |                  |     |           |        |            |"
   ]
  },
  {
   "cell_type": "markdown",
   "id": "1ce29e8e",
   "metadata": {},
   "source": [
    "#### Approach 3: Dask"
   ]
  },
  {
   "cell_type": "code",
   "execution_count": 16,
   "id": "3fb9e47f",
   "metadata": {},
   "outputs": [
    {
     "name": "stdout",
     "output_type": "stream",
     "text": [
      "MPI-ESM1-2-HR       5154240\n",
      "TaiESM1             3541230\n",
      "NorESM2-MM          3541230\n",
      "CMCC-CM2-HR4        3541230\n",
      "CMCC-CM2-SR5        3541230\n",
      "CMCC-ESM2           3541230\n",
      "SAM0-UNICON         3541153\n",
      "FGOALS-f3-L         3219300\n",
      "GFDL-CM4            3219300\n",
      "GFDL-ESM4           3219300\n",
      "EC-Earth3-Veg-LR    3037320\n",
      "MRI-ESM2-0          3037320\n",
      "BCC-CSM2-MR         3035340\n",
      "MIROC6              2070900\n",
      "ACCESS-CM2          1932840\n",
      "ACCESS-ESM1-5       1610700\n",
      "INM-CM5-0           1609650\n",
      "INM-CM4-8           1609650\n",
      "KIOST-ESM           1287720\n",
      "FGOALS-g3           1287720\n",
      "MPI-ESM1-2-LR        966420\n",
      "NESM3                966420\n",
      "AWI-ESM-1-1-LR       966420\n",
      "MPI-ESM-1-2-HAM      966420\n",
      "NorESM2-LM           919800\n",
      "BCC-ESM1             551880\n",
      "CanESM5              551880\n",
      "Name: model, dtype: int64\n",
      "peak memory: 4687.06 MiB, increment: 2399.27 MiB\n",
      "CPU times: user 33.2 s, sys: 11.1 s, total: 44.3 s\n",
      "Wall time: 23.3 s\n"
     ]
    }
   ],
   "source": [
    "%%time\n",
    "%%memit\n",
    "\n",
    "rainfall_ddf = dd.read_csv(combined_data_path)\n",
    "print(rainfall_ddf[\"model\"].value_counts().compute())"
   ]
  },
  {
   "cell_type": "markdown",
   "id": "520c2130",
   "metadata": {},
   "source": [
    "| Team Member | Operating System | RAM | Processor | Is SSD | Time taken |\n",
    "|:-----------:|:----------------:|:---:|:---------:|:------:|:----------:|\n",
    "| Cici        |                  |     |           |        |            |\n",
    "| Gautham     |Mac OS X (Big Sur)|8 GB |   M1      |   Yes  |   23.3s    |\n",
    "| Navya       |                  |     |           |        |            |\n",
    "| Nobby       |                  |     |           |        |            |"
   ]
  },
  {
   "cell_type": "markdown",
   "id": "b9eb4869",
   "metadata": {},
   "source": []
  }
 ],
 "metadata": {
  "kernelspec": {
   "display_name": "Python 3 (ipykernel)",
   "language": "python",
   "name": "python3"
  },
  "language_info": {
   "codemirror_mode": {
    "name": "ipython",
    "version": 3
   },
   "file_extension": ".py",
   "mimetype": "text/x-python",
   "name": "python",
   "nbconvert_exporter": "python",
   "pygments_lexer": "ipython3",
   "version": "3.9.9"
  }
 },
 "nbformat": 4,
 "nbformat_minor": 5
}
