{
 "cells": [
  {
   "cell_type": "markdown",
   "id": "700ae2b2-9d2c-457e-81f3-265fbfc5c69c",
   "metadata": {},
   "source": [
    "### Downloading the data"
   ]
  },
  {
   "cell_type": "code",
   "execution_count": 2,
   "id": "cfa7d994-a432-46b4-89a3-8b828afc857e",
   "metadata": {},
   "outputs": [],
   "source": [
    "# Imports\n",
    "\n",
    "import os\n",
    "import zipfile\n",
    "import requests\n",
    "import json\n",
    "import pandas as pd\n",
    "import dask.dataframe as dd\n",
    "import pyarrow.feather as feather\n",
    "from urllib.request import urlretrieve"
   ]
  },
  {
   "cell_type": "code",
   "execution_count": 3,
   "id": "ea172723",
   "metadata": {},
   "outputs": [],
   "source": [
    "%load_ext memory_profiler\n",
    "%load_ext rpy2.ipython"
   ]
  },
  {
   "cell_type": "code",
   "execution_count": 5,
   "id": "b03b01fd-2e93-44fa-8521-23e5227699be",
   "metadata": {},
   "outputs": [],
   "source": [
    "# Necessary constants\n",
    "\n",
    "article_id = 14096681  \n",
    "url = f\"https://api.figshare.com/v2/articles/{article_id}\"\n",
    "headers = {\"Content-Type\": \"application/json\"}\n",
    "output_directory = \"../data/\"\n",
    "combined_data_path = f\"{output_directory}/combined_data.csv\""
   ]
  },
  {
   "cell_type": "code",
   "execution_count": 22,
   "id": "32313bfc-375a-466b-851a-f108ab70bccf",
   "metadata": {},
   "outputs": [
    {
     "data": {
      "text/plain": [
       "[{'id': 26579150,\n",
       "  'name': 'daily_rainfall_2014.png',\n",
       "  'size': 58863,\n",
       "  'is_link_only': False,\n",
       "  'download_url': 'https://ndownloader.figshare.com/files/26579150',\n",
       "  'supplied_md5': 'fd32a2ffde300a31f8d63b1825d47e5e',\n",
       "  'computed_md5': 'fd32a2ffde300a31f8d63b1825d47e5e'},\n",
       " {'id': 26579171,\n",
       "  'name': 'environment.yml',\n",
       "  'size': 192,\n",
       "  'is_link_only': False,\n",
       "  'download_url': 'https://ndownloader.figshare.com/files/26579171',\n",
       "  'supplied_md5': '060b2020017eed93a1ee7dd8c65b2f34',\n",
       "  'computed_md5': '060b2020017eed93a1ee7dd8c65b2f34'},\n",
       " {'id': 26586554,\n",
       "  'name': 'README.md',\n",
       "  'size': 5422,\n",
       "  'is_link_only': False,\n",
       "  'download_url': 'https://ndownloader.figshare.com/files/26586554',\n",
       "  'supplied_md5': '61858c6cc0e6a6d6663a7e4c75bbd88c',\n",
       "  'computed_md5': '61858c6cc0e6a6d6663a7e4c75bbd88c'},\n",
       " {'id': 26766812,\n",
       "  'name': 'data.zip',\n",
       "  'size': 814041183,\n",
       "  'is_link_only': False,\n",
       "  'download_url': 'https://ndownloader.figshare.com/files/26766812',\n",
       "  'supplied_md5': 'b517383f76e77bd03755a63a8ff83ee9',\n",
       "  'computed_md5': 'b517383f76e77bd03755a63a8ff83ee9'},\n",
       " {'id': 26766815,\n",
       "  'name': 'get_data.py',\n",
       "  'size': 4113,\n",
       "  'is_link_only': False,\n",
       "  'download_url': 'https://ndownloader.figshare.com/files/26766815',\n",
       "  'supplied_md5': '7829028495fd9dec9680ea013474afa6',\n",
       "  'computed_md5': '7829028495fd9dec9680ea013474afa6'}]"
      ]
     },
     "execution_count": 22,
     "metadata": {},
     "output_type": "execute_result"
    }
   ],
   "source": [
    "response = requests.request(\"GET\", url, headers=headers)\n",
    "data = json.loads(response.text)  \n",
    "files = data[\"files\"]             \n",
    "files"
   ]
  },
  {
   "cell_type": "code",
   "execution_count": 5,
   "id": "24577925-4f26-4493-beb2-4fda52cdd205",
   "metadata": {},
   "outputs": [],
   "source": [
    "files_to_dl = [\"data.zip\"]\n",
    "for file in files:\n",
    "    if file[\"name\"] in files_to_dl:\n",
    "        os.makedirs(output_directory, exist_ok=True)\n",
    "        urlretrieve(file[\"download_url\"], output_directory + file[\"name\"])"
   ]
  },
  {
   "cell_type": "code",
   "execution_count": 6,
   "id": "8c9ff919-e183-4481-86c3-1780faa63aa9",
   "metadata": {},
   "outputs": [],
   "source": [
    "with zipfile.ZipFile(os.path.join(output_directory, \"data.zip\"), 'r') as f:\n",
    "    f.extractall(output_directory)"
   ]
  },
  {
   "cell_type": "markdown",
   "id": "19c1ccd8-b7da-4a1f-b612-50eaa6e59698",
   "metadata": {},
   "source": [
    "### Peak at one of the csv files\n",
    "\n"
   ]
  },
  {
   "cell_type": "code",
   "execution_count": 7,
   "id": "622e8c35-b98f-4e8a-b590-b006d2af0ec2",
   "metadata": {},
   "outputs": [],
   "source": [
    "df = pd.read_csv(\"../data/MPI-ESM-1-2-HAM_daily_rainfall_NSW.csv\")"
   ]
  },
  {
   "cell_type": "code",
   "execution_count": 8,
   "id": "547d0211-91d1-4357-a550-098d1bdfa525",
   "metadata": {},
   "outputs": [
    {
     "data": {
      "text/html": [
       "<div>\n",
       "<style scoped>\n",
       "    .dataframe tbody tr th:only-of-type {\n",
       "        vertical-align: middle;\n",
       "    }\n",
       "\n",
       "    .dataframe tbody tr th {\n",
       "        vertical-align: top;\n",
       "    }\n",
       "\n",
       "    .dataframe thead th {\n",
       "        text-align: right;\n",
       "    }\n",
       "</style>\n",
       "<table border=\"1\" class=\"dataframe\">\n",
       "  <thead>\n",
       "    <tr style=\"text-align: right;\">\n",
       "      <th></th>\n",
       "      <th>time</th>\n",
       "      <th>lat_min</th>\n",
       "      <th>lat_max</th>\n",
       "      <th>lon_min</th>\n",
       "      <th>lon_max</th>\n",
       "      <th>rain (mm/day)</th>\n",
       "    </tr>\n",
       "  </thead>\n",
       "  <tbody>\n",
       "    <tr>\n",
       "      <th>0</th>\n",
       "      <td>1889-01-01 12:00:00</td>\n",
       "      <td>-35.439867</td>\n",
       "      <td>-33.574619</td>\n",
       "      <td>141.5625</td>\n",
       "      <td>143.4375</td>\n",
       "      <td>4.244226e-13</td>\n",
       "    </tr>\n",
       "    <tr>\n",
       "      <th>1</th>\n",
       "      <td>1889-01-02 12:00:00</td>\n",
       "      <td>-35.439867</td>\n",
       "      <td>-33.574619</td>\n",
       "      <td>141.5625</td>\n",
       "      <td>143.4375</td>\n",
       "      <td>4.217326e-13</td>\n",
       "    </tr>\n",
       "    <tr>\n",
       "      <th>2</th>\n",
       "      <td>1889-01-03 12:00:00</td>\n",
       "      <td>-35.439867</td>\n",
       "      <td>-33.574619</td>\n",
       "      <td>141.5625</td>\n",
       "      <td>143.4375</td>\n",
       "      <td>4.498125e-13</td>\n",
       "    </tr>\n",
       "    <tr>\n",
       "      <th>3</th>\n",
       "      <td>1889-01-04 12:00:00</td>\n",
       "      <td>-35.439867</td>\n",
       "      <td>-33.574619</td>\n",
       "      <td>141.5625</td>\n",
       "      <td>143.4375</td>\n",
       "      <td>4.251282e-13</td>\n",
       "    </tr>\n",
       "    <tr>\n",
       "      <th>4</th>\n",
       "      <td>1889-01-05 12:00:00</td>\n",
       "      <td>-35.439867</td>\n",
       "      <td>-33.574619</td>\n",
       "      <td>141.5625</td>\n",
       "      <td>143.4375</td>\n",
       "      <td>4.270161e-13</td>\n",
       "    </tr>\n",
       "  </tbody>\n",
       "</table>\n",
       "</div>"
      ],
      "text/plain": [
       "                  time    lat_min    lat_max   lon_min   lon_max  \\\n",
       "0  1889-01-01 12:00:00 -35.439867 -33.574619  141.5625  143.4375   \n",
       "1  1889-01-02 12:00:00 -35.439867 -33.574619  141.5625  143.4375   \n",
       "2  1889-01-03 12:00:00 -35.439867 -33.574619  141.5625  143.4375   \n",
       "3  1889-01-04 12:00:00 -35.439867 -33.574619  141.5625  143.4375   \n",
       "4  1889-01-05 12:00:00 -35.439867 -33.574619  141.5625  143.4375   \n",
       "\n",
       "   rain (mm/day)  \n",
       "0   4.244226e-13  \n",
       "1   4.217326e-13  \n",
       "2   4.498125e-13  \n",
       "3   4.251282e-13  \n",
       "4   4.270161e-13  "
      ]
     },
     "execution_count": 8,
     "metadata": {},
     "output_type": "execute_result"
    }
   ],
   "source": [
    "df.head()"
   ]
  },
  {
   "cell_type": "code",
   "execution_count": 9,
   "id": "08a73a52-3797-4e5a-908c-dc031213b8e1",
   "metadata": {},
   "outputs": [
    {
     "data": {
      "text/plain": [
       "(966420, 6)"
      ]
     },
     "execution_count": 9,
     "metadata": {},
     "output_type": "execute_result"
    }
   ],
   "source": [
    "df.shape"
   ]
  },
  {
   "cell_type": "code",
   "execution_count": 10,
   "id": "7b58fc70-c491-42fd-b01e-c46d14208469",
   "metadata": {},
   "outputs": [],
   "source": [
    "# Define a skeleton for concatenating data frames\n",
    "\n",
    "combined_df = pd.DataFrame({\n",
    "    \"time\": [], \n",
    "    \"lat_min\": [], \n",
    "    \"lat_max\": [], \n",
    "    \"lon_min\": [], \n",
    "    \"lon_max\": [], \n",
    "    \"rain (mm/day)\": [], \n",
    "    \"model\": []\n",
    "})"
   ]
  },
  {
   "cell_type": "markdown",
   "id": "fdc16830-1dc5-4191-8736-736f4be759fd",
   "metadata": {},
   "source": [
    "### Concatenate all CSV files"
   ]
  },
  {
   "cell_type": "code",
   "execution_count": 11,
   "id": "adcbc3ef-b3e5-4526-a506-e3bd075b5cdf",
   "metadata": {},
   "outputs": [
    {
     "name": "stdout",
     "output_type": "stream",
     "text": [
      "CPU times: user 46.1 s, sys: 21.1 s, total: 1min 7s\n",
      "Wall time: 1min 13s\n"
     ]
    }
   ],
   "source": [
    "%%time\n",
    "\n",
    "exclude_files = ['observed_daily_rainfall_SYD.csv' , 'combined_data.csv']\n",
    "for filename in os.listdir(output_directory):\n",
    " \n",
    "    if filename.endswith('.csv'):\n",
    "        if filename in exclude_files:\n",
    "            continue\n",
    "        else:\n",
    "            model = filename.partition('_daily_rainfall')[0]\n",
    "            df = pd.read_csv(output_directory + filename)\n",
    "            df[\"model\"] = model\n",
    "            combined_df = pd.concat([combined_df, df], axis=0)\n"
   ]
  },
  {
   "cell_type": "markdown",
   "id": "a2f6c248-4909-4348-a72c-53c053956c4a",
   "metadata": {},
   "source": [
    "### Check if all csv files are incorporated as model column"
   ]
  },
  {
   "cell_type": "code",
   "execution_count": 16,
   "id": "8be0cf25-e6ce-469d-9a7c-701b2f859388",
   "metadata": {},
   "outputs": [
    {
     "data": {
      "text/plain": [
       "MPI-ESM1-2-HR       5154240\n",
       "CMCC-CM2-HR4        3541230\n",
       "CMCC-ESM2           3541230\n",
       "CMCC-CM2-SR5        3541230\n",
       "NorESM2-MM          3541230\n",
       "TaiESM1             3541230\n",
       "SAM0-UNICON         3541153\n",
       "GFDL-ESM4           3219300\n",
       "FGOALS-f3-L         3219300\n",
       "GFDL-CM4            3219300\n",
       "MRI-ESM2-0          3037320\n",
       "EC-Earth3-Veg-LR    3037320\n",
       "BCC-CSM2-MR         3035340\n",
       "MIROC6              2070900\n",
       "ACCESS-CM2          1932840\n",
       "ACCESS-ESM1-5       1610700\n",
       "INM-CM4-8           1609650\n",
       "INM-CM5-0           1609650\n",
       "FGOALS-g3           1287720\n",
       "KIOST-ESM           1287720\n",
       "AWI-ESM-1-1-LR       966420\n",
       "MPI-ESM1-2-LR        966420\n",
       "NESM3                966420\n",
       "MPI-ESM-1-2-HAM      966420\n",
       "NorESM2-LM           919800\n",
       "BCC-ESM1             551880\n",
       "CanESM5              551880\n",
       "Name: model, dtype: int64"
      ]
     },
     "execution_count": 16,
     "metadata": {},
     "output_type": "execute_result"
    }
   ],
   "source": [
    "# Sanity check - there should be 27 different models\n",
    "\n",
    "assert len(list(combined_df['model'].value_counts()))==27, \"Wrong number of files concatenated\"\n",
    "combined_df['model'].value_counts()"
   ]
  },
  {
   "cell_type": "markdown",
   "id": "ea6f965f-4284-404a-95fd-b91aae8d8500",
   "metadata": {},
   "source": [
    "### Store the combined df to a csv file"
   ]
  },
  {
   "cell_type": "code",
   "execution_count": 27,
   "id": "f32bfcbe-9858-4b66-9b94-b809591a86a0",
   "metadata": {},
   "outputs": [
    {
     "name": "stdout",
     "output_type": "stream",
     "text": [
      "CPU times: user 6min 16s, sys: 6.4 s, total: 6min 23s\n",
      "Wall time: 6min 29s\n"
     ]
    }
   ],
   "source": [
    "%%time\n",
    "\n",
    "combined_df.to_csv(combined_data_path)"
   ]
  },
  {
   "cell_type": "code",
   "execution_count": null,
   "id": "691067ea",
   "metadata": {},
   "outputs": [
    {
     "name": "stdout",
     "output_type": "stream",
     "text": [
      "6.0G\t../data/combined_data.csv\n"
     ]
    }
   ],
   "source": [
    "%%sh\n",
    "\n",
    "du -sh ../data/combined_data.csv"
   ]
  },
  {
   "cell_type": "markdown",
   "id": "0498de11",
   "metadata": {},
   "source": [
    "**Note**: Time taken is calculated by combining the wall times of data concatenation and storing the data frame as a CSV file."
   ]
  },
  {
   "cell_type": "markdown",
   "id": "5793452f",
   "metadata": {},
   "source": [
    "| Team Member | Operating System | RAM | Processor | Is SSD | Time taken |\n",
    "|:-----------:|:----------------:|:---:|:---------:|:------:|:----------:|\n",
    "| Cici        |Mac OS Monterey   |16GB    |     M1 |  Yes   |   9min 13s |\n",
    "| Gautham     |Mac OS X (Big Sur)|8 GB |   M1      |   Yes  |   9min 21s |\n",
    "| Navya       |Mac OS X (Big Sur)|16 GB|     M1    |  Yes   |  6min 29s  |\n",
    "| Nobby       |Mac OS X (Big Sur)|8 GB |M1         |   Yes  |  6min 34s  |"
   ]
  },
  {
   "cell_type": "markdown",
   "id": "ab3d51f5",
   "metadata": {},
   "source": [
    "### 3. Load the combined CSV to memory and perform a simple EDA"
   ]
  },
  {
   "cell_type": "markdown",
   "id": "c3f2b8af",
   "metadata": {},
   "source": [
    "#### 3.1 Loading the entire data frame (Reference)"
   ]
  },
  {
   "cell_type": "markdown",
   "id": "a5b5f828",
   "metadata": {},
   "source": [
    "Recording the runtime and memory usage of loading and performing a simple EDA [`value_counts()`] on the whole dataset using Pandas as reference for other approaches."
   ]
  },
  {
   "cell_type": "code",
   "execution_count": null,
   "id": "201c876a",
   "metadata": {},
   "outputs": [
    {
     "name": "stdout",
     "output_type": "stream",
     "text": [
      "MPI-ESM1-2-HR       5154240\n",
      "CMCC-CM2-HR4        3541230\n",
      "CMCC-ESM2           3541230\n",
      "CMCC-CM2-SR5        3541230\n",
      "NorESM2-MM          3541230\n",
      "TaiESM1             3541230\n",
      "SAM0-UNICON         3541153\n",
      "GFDL-ESM4           3219300\n",
      "FGOALS-f3-L         3219300\n",
      "GFDL-CM4            3219300\n",
      "MRI-ESM2-0          3037320\n",
      "EC-Earth3-Veg-LR    3037320\n",
      "BCC-CSM2-MR         3035340\n",
      "MIROC6              2070900\n",
      "ACCESS-CM2          1932840\n",
      "ACCESS-ESM1-5       1610700\n",
      "INM-CM4-8           1609650\n",
      "INM-CM5-0           1609650\n",
      "FGOALS-g3           1287720\n",
      "KIOST-ESM           1287720\n",
      "AWI-ESM-1-1-LR       966420\n",
      "MPI-ESM1-2-LR        966420\n",
      "NESM3                966420\n",
      "MPI-ESM-1-2-HAM      966420\n",
      "NorESM2-LM           919800\n",
      "BCC-ESM1             551880\n",
      "CanESM5              551880\n",
      "Name: model, dtype: int64\n",
      "peak memory: 26990.42 MiB, increment: 1974.73 MiB\n",
      "CPU times: user 48 s, sys: 14.4 s, total: 1min 2s\n",
      "Wall time: 1min 12s\n"
     ]
    }
   ],
   "source": [
    "%%time\n",
    "%%memit\n",
    "\n",
    "rainfall_df = pd.read_csv(combined_data_path)\n",
    "print(rainfall_df[\"model\"].value_counts())"
   ]
  },
  {
   "cell_type": "markdown",
   "id": "0526e541",
   "metadata": {},
   "source": [
    "| Team Member | Operating System | RAM | Processor | Is SSD | Time taken |\n",
    "|:-----------:|:----------------:|:---:|:---------:|:------:|:----------:|\n",
    "| Cici        |Mac OS Monterey   |16GB    |     M1 |  Yes   |   1min 38s |\n",
    "| Gautham     |Mac OS X (Big Sur)|8 GB |   M1      |   Yes  | 2min 52s   |\n",
    "| Navya       |Mac OS X (Big Sur)| 16 GB|    M1    |  Yes   |   1min 12 s|\n",
    "| Nobby       |Mac OS X (Big Sur)|8 GB |   M1      |   Yes  | 1min 40s   |            "
   ]
  },
  {
   "cell_type": "markdown",
   "id": "c605f769",
   "metadata": {},
   "source": [
    "#### 3.2 Approach 1: Changing `dtype` of the data"
   ]
  },
  {
   "cell_type": "markdown",
   "id": "b6b861b1",
   "metadata": {},
   "source": [
    "Modifying data types for the features to optimize the memory usage and checking if this improves the run time when compared to baseline."
   ]
  },
  {
   "cell_type": "code",
   "execution_count": null,
   "id": "af2f8a28",
   "metadata": {},
   "outputs": [
    {
     "name": "stdout",
     "output_type": "stream",
     "text": [
      "Memory usage with float64: 3997.94 MB\n",
      "Memory usage with float32: 2748.59 MB\n",
      "MPI-ESM1-2-HR       5154240\n",
      "CMCC-CM2-HR4        3541230\n",
      "CMCC-ESM2           3541230\n",
      "CMCC-CM2-SR5        3541230\n",
      "NorESM2-MM          3541230\n",
      "TaiESM1             3541230\n",
      "SAM0-UNICON         3541153\n",
      "GFDL-ESM4           3219300\n",
      "FGOALS-f3-L         3219300\n",
      "GFDL-CM4            3219300\n",
      "MRI-ESM2-0          3037320\n",
      "EC-Earth3-Veg-LR    3037320\n",
      "BCC-CSM2-MR         3035340\n",
      "MIROC6              2070900\n",
      "ACCESS-CM2          1932840\n",
      "ACCESS-ESM1-5       1610700\n",
      "INM-CM4-8           1609650\n",
      "INM-CM5-0           1609650\n",
      "FGOALS-g3           1287720\n",
      "KIOST-ESM           1287720\n",
      "AWI-ESM-1-1-LR       966420\n",
      "MPI-ESM1-2-LR        966420\n",
      "NESM3                966420\n",
      "MPI-ESM-1-2-HAM      966420\n",
      "NorESM2-LM           919800\n",
      "BCC-ESM1             551880\n",
      "CanESM5              551880\n",
      "Name: model, dtype: int64\n",
      "peak memory: 26533.81 MiB, increment: 10435.67 MiB\n",
      "CPU times: user 14.9 s, sys: 4.17 s, total: 19 s\n",
      "Wall time: 20.8 s\n"
     ]
    }
   ],
   "source": [
    "%%time\n",
    "%%memit\n",
    "\n",
    "print(f\"Memory usage with float64: {rainfall_df.memory_usage().sum() / 1e6:.2f} MB\")\n",
    "rainfall_df = rainfall_df.astype(\n",
    "    dtype={\n",
    "        \"lat_min\": \"float32\",\n",
    "        \"lat_max\": \"float32\",\n",
    "        \"lon_min\": \"float32\",\n",
    "        \"lon_max\": \"float32\",\n",
    "        \"rain (mm/day)\": \"float32\",\n",
    "        \"time\": \"datetime64[s]\"\n",
    "    },\n",
    "    errors='ignore')\n",
    "print(f\"Memory usage with float32: {rainfall_df.memory_usage().sum() / 1e6:.2f} MB\")\n",
    "print(rainfall_df[\"model\"].value_counts())"
   ]
  },
  {
   "cell_type": "markdown",
   "id": "6d13c8b2",
   "metadata": {},
   "source": [
    "| Team Member | Operating System | RAM | Processor | Is SSD | Time taken |\n",
    "|:-----------:|:----------------:|:---:|:---------:|:------:|:----------:|\n",
    "| Cici        |Mac OS Monterey   |16GB    |     M1 |  Yes   |   27s |\n",
    "| Gautham     |Mac OS X (Big Sur)|8 GB |   M1      |   Yes  |   45.3s    |\n",
    "| Navya       |Mac OS X (Big Sur)|16 GB |   M1     |   Yes  |  20.8s    |\n",
    "| Nobby       |Mac OS X (Big Sur)|8 GB |   M1      |   Yes  | 34.9s.     |     "
   ]
  },
  {
   "cell_type": "markdown",
   "id": "6ec39156",
   "metadata": {},
   "source": [
    "#### 3.3 Approach 2: Load data in chunks"
   ]
  },
  {
   "cell_type": "markdown",
   "id": "4fb34eda",
   "metadata": {},
   "source": [
    "Loading the data in chunks of size 10 millions instead of loading all at once and checking if this improves the run time and memory usage when compared to baseline."
   ]
  },
  {
   "cell_type": "code",
   "execution_count": null,
   "id": "4b992187",
   "metadata": {},
   "outputs": [
    {
     "name": "stdout",
     "output_type": "stream",
     "text": [
      "ACCESS-CM2          1932840\n",
      "ACCESS-ESM1-5       1610700\n",
      "AWI-ESM-1-1-LR       966420\n",
      "BCC-CSM2-MR         3035340\n",
      "BCC-ESM1             551880\n",
      "CMCC-CM2-HR4        3541230\n",
      "CMCC-CM2-SR5        3541230\n",
      "CMCC-ESM2           3541230\n",
      "CanESM5              551880\n",
      "EC-Earth3-Veg-LR    3037320\n",
      "FGOALS-f3-L         3219300\n",
      "FGOALS-g3           1287720\n",
      "GFDL-CM4            3219300\n",
      "GFDL-ESM4           3219300\n",
      "INM-CM4-8           1609650\n",
      "INM-CM5-0           1609650\n",
      "KIOST-ESM           1287720\n",
      "MIROC6              2070900\n",
      "MPI-ESM-1-2-HAM      966420\n",
      "MPI-ESM1-2-HR       5154240\n",
      "MPI-ESM1-2-LR        966420\n",
      "MRI-ESM2-0          3037320\n",
      "NESM3                966420\n",
      "NorESM2-LM           919800\n",
      "NorESM2-MM          3541230\n",
      "SAM0-UNICON         3541153\n",
      "TaiESM1             3541230\n",
      "dtype: int64\n",
      "peak memory: 22771.11 MiB, increment: 8369.58 MiB\n",
      "CPU times: user 47 s, sys: 4.93 s, total: 51.9 s\n",
      "Wall time: 53.4 s\n"
     ]
    }
   ],
   "source": [
    "%%time\n",
    "%%memit\n",
    "\n",
    "counts = pd.Series(dtype=int)\n",
    "for chunk in pd.read_csv(combined_data_path, chunksize=10_000_000):\n",
    "    counts = counts.add(chunk[\"model\"].value_counts(), fill_value=0)\n",
    "\n",
    "print(counts.astype(int))"
   ]
  },
  {
   "cell_type": "markdown",
   "id": "afebc75b",
   "metadata": {},
   "source": [
    "| Team Member | Operating System | RAM | Processor | Is SSD | Time taken |\n",
    "|:-----------:|:----------------:|:---:|:---------:|:------:|:----------:|\n",
    "| Cici        |Mac OS Monterey   |16GB    |     M1 |  Yes   |   1min 13s |\n",
    "| Gautham     |Mac OS X (Big Sur)|8 GB |   M1      |   Yes  |   59s      |\n",
    "| Navya       |Mac OS X (Big Sur)|16 GB|   M1      |   Yes  |   53.4s    |\n",
    "| Nobby       |Mac OS X (Big Sur)|8 GB |   M1      |   Yes  | 1min 12s   |            "
   ]
  },
  {
   "cell_type": "markdown",
   "id": "1ce29e8e",
   "metadata": {},
   "source": [
    "#### 3.4 Approach 3: Dask"
   ]
  },
  {
   "cell_type": "markdown",
   "id": "47519eb8",
   "metadata": {},
   "source": [
    "[Dask](https://dask.org/) is a data analysis library similar to Pandas but supports parallelism and elegantly handles out of memory datasets. Using it to check for any improvements in the runtime and memory usage."
   ]
  },
  {
   "cell_type": "code",
   "execution_count": null,
   "id": "3fb9e47f",
   "metadata": {},
   "outputs": [
    {
     "name": "stdout",
     "output_type": "stream",
     "text": [
      "MPI-ESM1-2-HR       5154240\n",
      "TaiESM1             3541230\n",
      "NorESM2-MM          3541230\n",
      "CMCC-CM2-HR4        3541230\n",
      "CMCC-CM2-SR5        3541230\n",
      "CMCC-ESM2           3541230\n",
      "SAM0-UNICON         3541153\n",
      "FGOALS-f3-L         3219300\n",
      "GFDL-CM4            3219300\n",
      "GFDL-ESM4           3219300\n",
      "EC-Earth3-Veg-LR    3037320\n",
      "MRI-ESM2-0          3037320\n",
      "BCC-CSM2-MR         3035340\n",
      "MIROC6              2070900\n",
      "ACCESS-CM2          1932840\n",
      "ACCESS-ESM1-5       1610700\n",
      "INM-CM5-0           1609650\n",
      "INM-CM4-8           1609650\n",
      "KIOST-ESM           1287720\n",
      "FGOALS-g3           1287720\n",
      "MPI-ESM1-2-LR        966420\n",
      "NESM3                966420\n",
      "AWI-ESM-1-1-LR       966420\n",
      "MPI-ESM-1-2-HAM      966420\n",
      "NorESM2-LM           919800\n",
      "BCC-ESM1             551880\n",
      "CanESM5              551880\n",
      "Name: model, dtype: int64\n",
      "peak memory: 12826.03 MiB, increment: 2355.45 MiB\n",
      "CPU times: user 33.6 s, sys: 3.63 s, total: 37.3 s\n",
      "Wall time: 12.4 s\n"
     ]
    }
   ],
   "source": [
    "%%time\n",
    "%%memit\n",
    "\n",
    "rainfall_ddf = dd.read_csv(combined_data_path)\n",
    "print(rainfall_ddf[\"model\"].value_counts().compute())"
   ]
  },
  {
   "cell_type": "markdown",
   "id": "520c2130",
   "metadata": {},
   "source": [
    "| Team Member | Operating System | RAM | Processor | Is SSD | Time taken |\n",
    "|:-----------:|:----------------:|:---:|:---------:|:------:|:----------:|\n",
    "| Cici        |Mac OS Monterey   |16GB    |     M1 |  Yes   |   19s |\n",
    "| Gautham     |Mac OS X (Big Sur)|8 GB |   M1      |   Yes  |   23.3s    |\n",
    "| Navya       |Mac OS X (Big Sur)|16 GB|   M1      |   Yes  |   12.4s    |               \n",
    "| Nobby       |Mac OS X (Big Sur)|8 GB |   M1      |   Yes  | 17.8s      |"
   ]
  },
  {
   "cell_type": "markdown",
   "id": "3e48413b",
   "metadata": {},
   "source": [
    "**Observations:**\n",
    "\n",
    "1. The baseline takes the maximum time to load the dataset and perform a simple EDA when compared to other approaches. Also, it can be seen loading the entire dataset at once in memory intensive.\n",
    "2. In **Approach 1**, we inspected the memory usage with and without data type optimization. As you can see there is a significant improvement in memory usage from 3997.94 MB to 2748.59 MB when the data types for the features are optimized. The intention of this step is to not compare the runtime to other approaches but to check for improvements in memory usage.\n",
    "3. In **Approach 2**, we tried optimizing the runtime by loading data in chunks of size 10 million iteratively along with performing EDA. It can be observed that the runtime has improved by a large margin from around 2 mins 52 seconds to 59 seconds and there is also a significant improvement in terms of memory usage reducing the peak usage from 5864.23 MiB to 2356.17 MiB.\n",
    "4. In **Approach 3**, we used a third-party library called Dask to improve the performance using parallelism and efficient handling of the large dataset. This approach is the quickest in terms of runtime among all other approaches taking only 23 seconds to complete the whole operation. But the peak memory usage is not as efficient as Approach 1 or Approach 2.\n",
    "\n",
    "> To summarise, the Dask approach seems to provide the best runtime while the approach of loading the dataset in chunks provides the optimal memory usage."
   ]
  },
  {
   "cell_type": "markdown",
   "id": "b9eb4869",
   "metadata": {},
   "source": [
    "### 4. Simple EDA in `R`"
   ]
  },
  {
   "cell_type": "markdown",
   "id": "c3b7e885-5b39-4742-9820-b189118e4df4",
   "metadata": {},
   "source": [
    "#### 4.1 Create feather file"
   ]
  },
  {
   "cell_type": "code",
   "execution_count": null,
   "id": "a33da9b8-1faf-4ade-9647-8be00c51c0da",
   "metadata": {},
   "outputs": [
    {
     "name": "stdout",
     "output_type": "stream",
     "text": [
      "peak memory: 13741.22 MiB, increment: 6503.16 MiB\n",
      "CPU times: user 5.06 s, sys: 2.54 s, total: 7.59 s\n",
      "Wall time: 5.85 s\n"
     ]
    }
   ],
   "source": [
    "%%time\n",
    "%%memit\n",
    "\n",
    "rainfall_df.to_feather('../data/combined_data_feather.feather')"
   ]
  },
  {
   "cell_type": "markdown",
   "id": "2533265f-ad65-4f3e-afa3-0e244820e14d",
   "metadata": {},
   "source": [
    "| Team Member | Operating System | RAM | Processor | Is SSD | Time taken |\n",
    "|:-----------:|:----------------:|:---:|:---------:|:------:|:----------:|\n",
    "| Cici        |                  |     |           |        |            |\n",
    "| Gautham     |Mac OS X (Big Sur)|8 GB |   M1      |   Yes  |            |\n",
    "| Navya       |Mac OS X (Big Sur)|16 GB|   M1      |   Yes  |  5.85s    |               \n",
    "| Nobby       |Mac OS X (Big Sur)|8 GB |   M1      |   Yes  |     |"
   ]
  },
  {
   "cell_type": "markdown",
   "id": "98b67b6e-fd6b-4e16-97fb-2d4d89b25170",
   "metadata": {},
   "source": [
    "##### Check the file size"
   ]
  },
  {
   "cell_type": "code",
   "execution_count": null,
   "id": "a7b8ee4b-05aa-4b5c-9c18-cf9043c8dcc8",
   "metadata": {},
   "outputs": [
    {
     "name": "stdout",
     "output_type": "stream",
     "text": [
      "6.0G\t../data/combined_data.csv\n",
      "1.2G\t../data/combined_data_feather.feather\n"
     ]
    }
   ],
   "source": [
    "%%sh\n",
    "du -sh ../data/combined_data.csv\n",
    "du -sh ../data/combined_data_feather.feather"
   ]
  },
  {
   "cell_type": "markdown",
   "id": "dc845afc-04be-4f40-aee3-d4c6ab7a35dd",
   "metadata": {},
   "source": [
    "#### 4.2 EDA"
   ]
  },
  {
   "cell_type": "code",
   "execution_count": null,
   "id": "9de20b6b-81f2-4dad-a850-7e59a648fa00",
   "metadata": {},
   "outputs": [
    {
     "name": "stderr",
     "output_type": "stream",
     "text": [
      "R[write to console]: \n",
      "Attaching package: ‘dplyr’\n",
      "\n",
      "\n",
      "R[write to console]: The following objects are masked from ‘package:stats’:\n",
      "\n",
      "    filter, lag\n",
      "\n",
      "\n",
      "R[write to console]: The following objects are masked from ‘package:base’:\n",
      "\n",
      "    intersect, setdiff, setequal, union\n",
      "\n",
      "\n",
      "R[write to console]: \n",
      "Attaching package: ‘arrow’\n",
      "\n",
      "\n",
      "R[write to console]: The following object is masked from ‘package:utils’:\n",
      "\n",
      "    timestamp\n",
      "\n",
      "\n"
     ]
    },
    {
     "name": "stdout",
     "output_type": "stream",
     "text": [
      "# A tibble: 27 × 2\n",
      "   model                  n\n",
      "   <chr>              <int>\n",
      " 1 ACCESS-CM2       1932840\n",
      " 2 ACCESS-ESM1-5    1610700\n",
      " 3 AWI-ESM-1-1-LR    966420\n",
      " 4 BCC-CSM2-MR      3035340\n",
      " 5 BCC-ESM1          551880\n",
      " 6 CanESM5           551880\n",
      " 7 CMCC-CM2-HR4     3541230\n",
      " 8 CMCC-CM2-SR5     3541230\n",
      " 9 CMCC-ESM2        3541230\n",
      "10 EC-Earth3-Veg-LR 3037320\n",
      "# … with 17 more rows\n",
      "Time difference of 11.10052 secs\n",
      "CPU times: user 6.27 s, sys: 7.4 s, total: 13.7 s\n",
      "Wall time: 15 s\n"
     ]
    }
   ],
   "source": [
    "%%time\n",
    "%%R\n",
    "library(dplyr)\n",
    "library(arrow)\n",
    "start_time <- Sys.time()\n",
    "\n",
    "rainfall_df_r <- arrow::read_feather(\"../data/combined_data_feather.feather\")\n",
    "result <- rainfall_df_r |>  count(model)\n",
    "\n",
    "end_time <- Sys.time()\n",
    "print(result)\n",
    "print(end_time - start_time)"
   ]
  },
  {
   "cell_type": "markdown",
   "id": "fed7b1c0-d876-4e77-9451-102f1a63639c",
   "metadata": {},
   "source": [
    "| Team Member | Operating System | RAM | Processor | Is SSD | Time taken |\n",
    "|:-----------:|:----------------:|:---:|:---------:|:------:|:----------:|\n",
    "| Cici        |                  |     |           |        |            |\n",
    "| Gautham     |Mac OS X (Big Sur)|8 GB |   M1      |   Yes  |            |\n",
    "| Navya       |Mac OS X (Big Sur)|16 GB|   M1      |   Yes  |  11.100s    |               \n",
    "| Nobby       |Mac OS X (Big Sur)|8 GB |   M1      |   Yes  |     |"
   ]
  },
  {
   "cell_type": "code",
   "execution_count": null,
   "id": "3db76810-c9a4-413c-99d4-78a361b3a2d3",
   "metadata": {},
   "outputs": [
    {
     "name": "stdout",
     "output_type": "stream",
     "text": [
      "[1] \"tbl_df\"     \"tbl\"        \"data.frame\"\n",
      "Rows: 62,467,843\n",
      "Columns: 8\n",
      "$ `Unnamed: 0`    <int> 0, 1, 2, 3, 4, 5, 6, 7, 8, 9, 10, 11, 12, 13, 14, 15, …\n",
      "$ time            <dttm> 1889-01-01 04:00:00, 1889-01-02 04:00:00, 1889-01-03 …\n",
      "$ lat_min         <dbl> -35.43987, -35.43987, -35.43987, -35.43987, -35.43987,…\n",
      "$ lat_max         <dbl> -33.57462, -33.57462, -33.57462, -33.57462, -33.57462,…\n",
      "$ lon_min         <dbl> 141.5625, 141.5625, 141.5625, 141.5625, 141.5625, 141.…\n",
      "$ lon_max         <dbl> 143.4375, 143.4375, 143.4375, 143.4375, 143.4375, 143.…\n",
      "$ `rain (mm/day)` <dbl> 4.244226e-13, 4.217326e-13, 4.498125e-13, 4.251282e-13…\n",
      "$ model           <chr> \"MPI-ESM-1-2-HAM\", \"MPI-ESM-1-2-HAM\", \"MPI-ESM-1-2-HAM…\n",
      "Time difference of 0.01221609 secs\n",
      "CPU times: user 16.5 ms, sys: 5.34 ms, total: 21.8 ms\n",
      "Wall time: 21.4 ms\n"
     ]
    }
   ],
   "source": [
    "%%time\n",
    "%%R\n",
    "start_time <- Sys.time()\n",
    "\n",
    "print(class(rainfall_df_r))\n",
    "glimpse(rainfall_df_r)\n",
    "\n",
    "end_time <- Sys.time()\n",
    "print(end_time - start_time)"
   ]
  },
  {
   "cell_type": "markdown",
   "id": "b67c7aea-9801-442a-8321-f06150012dd2",
   "metadata": {},
   "source": [
    "| Team Member | Operating System | RAM | Processor | Is SSD | Time taken |\n",
    "|:-----------:|:----------------:|:---:|:---------:|:------:|:----------:|\n",
    "| Cici        |                  |     |           |        |            |\n",
    "| Gautham     |Mac OS X (Big Sur)|8 GB |   M1      |   Yes  |            |\n",
    "| Navya       |Mac OS X (Big Sur)|16 GB|   M1      |   Yes  | 0.12s    |               \n",
    "| Nobby       |Mac OS X (Big Sur)|8 GB |   M1      |   Yes  |     |"
   ]
  },
  {
   "cell_type": "markdown",
   "id": "f62af14c-051f-4e9f-aeec-9984c3138e1d",
   "metadata": {},
   "source": [
    "#### 4.3 Reason to choose feather file\n",
    "\n",
    "- Feathers files are about 30% of the size as the CSV file. In this case CSV file is almost 6GB, while feather file is only 1.2GB\n",
    "- Saving the data in feather file takes less than 5 minutes and loading the data takes less than 20 seconds.\n",
    "- Pandas exchange was not choosen because it is slow, Arrow was not selected because it is more suitable for \n",
    "- Parquet file could have compressed the data further and we can save some more space, but in this case we are satisfied with the size 1.2GB for such a big dataset. "
   ]
  },
  {
   "cell_type": "code",
   "execution_count": null,
   "id": "02394838-be00-4a47-8f00-dc49c5b61bfa",
   "metadata": {},
   "outputs": [],
   "source": []
  }
 ],
 "metadata": {
  "kernelspec": {
   "display_name": "Python [conda env:525_22]",
   "language": "python",
   "name": "conda-env-525_22-py"
  },
  "language_info": {
   "codemirror_mode": {
    "name": "ipython",
    "version": 3
   },
   "file_extension": ".py",
   "mimetype": "text/x-python",
   "name": "python",
   "nbconvert_exporter": "python",
   "pygments_lexer": "ipython3",
   "version": "3.8.6"
  }
 },
 "nbformat": 4,
 "nbformat_minor": 5
}
